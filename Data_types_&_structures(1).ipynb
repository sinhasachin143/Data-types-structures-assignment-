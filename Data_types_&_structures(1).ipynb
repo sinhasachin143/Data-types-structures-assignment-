{
  "nbformat": 4,
  "nbformat_minor": 0,
  "metadata": {
    "colab": {
      "provenance": []
    },
    "kernelspec": {
      "name": "python3",
      "display_name": "Python 3"
    },
    "language_info": {
      "name": "python"
    }
  },
  "cells": [
    {
      "cell_type": "markdown",
      "source": [
        "# Data Types and Structures Questions\n",
        "1. What are data structures, and why are they important?\n",
        "   - A data structure is a specialized format for organizing, processing, retrieving and storing data. There are several basic and advanced types of data structures, all designed to arrange data to suit a specific purpose. Data structures make it easy for users to access and work with the data they need.Data structures are important because they allow users to perform higher-level data operations like searching, sorting, insertion, and deletion. They also help users to optimize their code and make it more efficient.\n",
        "\n",
        "2. Explain the difference between mutable and immutable data types with    examples?\n",
        "   - The main difference between mutable and immutable data types is that mutable data types can be changed after creation, while immutable data types cannot.\n",
        "   \n",
        "   Examples:-\n",
        "   \n",
        "   *1. Mutable data types:-\n",
        "   - These data types can be modified after they are created. Examples include lists, dictionaries, and sets.\n",
        "\n",
        "   *2. Immutable data types:-\n",
        "  - These data types cannot be changed once they are created. Examples include strings and tuples.\n",
        "   some other differences between mutable and immutable data types:-\n",
        "\n",
        "   *3. Memory:-\n",
        "  - Mutable objects share the same memory allocated previously, while immutable objects cannot be altered directly.\n",
        "\n",
        "   *4. Mutability:-\n",
        "  -Mutability or immutability is intrinsic to objects rather than to variables.\n",
        "\n",
        "\n",
        "3. What are the main differences between lists and tuples in Python?  \n",
        "   - List is a collection which is ordered and changeable. Allows duplicate members. Tuple is a collection which is ordered and unchangeable.The key difference between tuples and lists is that while tuples are immutable objects, lists are mutable. This means tuples cannot be changed while lists can be modified. Tuples are also more memory efficient than the lists.Lists and tuples are both fundamental data structures in Python used to store collections of items.\n",
        "   \n",
        "   - Lists:\n",
        "Mutable, meaning you can modify their elements (add, remove, change) after creation. deal when you need a dynamic collection that can be modified, like a shopping list or a list of tasks.\n",
        "Lists: Defined using square brackets [].\n",
        "\n",
        "  - Tuples:\n",
        "Immutable, meaning their elements cannot be changed once the tuple is created.Suitable for representing fixed data that shouldn't be altered, like coordinates or database records. Tuples: Defined using parentheses ().\n",
        "\n",
        "4. Describe how dictionaries store data?\n",
        "   - A dictionary stores data in \"key-value pairs\", meaning each piece of information is associated with a unique identifier called a \"key\" which allows for quick retrieval of the corresponding \"value\" stored with it; essentially acting like an index in a traditional dictionary where you look up a word (key) to find its definition (value). A dictionary is a collection which is ordered*, changeable and do not allow duplicates. Dictionaries are usually implemented using a data structure called a \"hash table\" which efficiently maps keys to their corresponding values using a hashing algorithm. To retrieve a value, you provide the associated key, and the dictionary quickly calculates its position in the hash table to access the data. Uniqueness, Keys within a dictionary must be unique. Immutability, In most implementations, keys are typically immutable (cannot be changed) to ensure consistent hashing.\n",
        "\n",
        "5. Why might you use a set instead of a list in Python?\n",
        "   - Because sets cannot have multiple occurrences of the same element, it makes sets highly useful to efficiently remove duplicate values from a list or tuple and to perform common math operations like unions and intersections.\n",
        "   - choose to use a set instead of a list in Python for several reasons:-\n",
        "  - Uniqueness:-\n",
        "Sets only store unique elements, automatically eliminating duplicates. This is useful when you're working with data where duplicates are irrelevant or undesirable.\n",
        "   - Membership Testing:-\n",
        "Sets are optimized for membership testing, meaning checking if an element exists in the set is very fast. This is due to the underlying implementation of sets using hash tables.\n",
        " - Mathematical Operations:-\n",
        "Sets support mathematical operations like union, intersection, and difference, which can be very convenient for certain tasks.\n",
        "   - Order Matters: If the order of your elements is important, you should use a list, as sets do not preserve the original order.\n",
        "  - Duplicates Allowed: If you need to store duplicates, a list is the appropriate choice.\n",
        "  - Indexing: If you need to access elements by their index, lists provide direct access using indexing.\n",
        "\n",
        "6. What is a string in Python, and how is it different from a list?\n",
        "   - A string is a sequence of characters between single or double quotes. A list is a sequence of items, where each item could be anything (an integer, a float, a string, etc). a string is an ordered sequence of characters enclosed in quotes (single or double), representing textual data, while a list is an ordered collection of items (which can be of different data types like numbers, strings, etc.) enclosed in square brackets, and unlike strings, lists are mutable, meaning you can change their elements after creation.\n",
        "   - Data type: A string only holds characters, while a list can hold various data types.\n",
        "   - Mutability: Strings are immutable (cannot be changed once created), while lists are mutable (can be modified after creation).\n",
        "   - Representation: Strings are defined with quotes (\"Hello\" or 'Hello'), while lists are defined with square brackets ([1, 2, 3, \"Hello\"]).\n",
        "\n",
        "7. How do tuples ensure data integrity in Python?\n",
        "   - Tuples ensure data integrity in Python through their key characteristic: immutability. This means that once a tuple is created, its elements cannot be modified, added, or removed.Tuples are immutable to ensure that their contents remain constant throughout their lifecycle, guaranteeing data integrity and reliability.\n",
        "   - Prevents Accidental Changes:\n",
        "With tuples, you eliminate the risk of accidentally altering data that should remain constant. This is particularly useful when dealing with sensitive information or data that needs to be preserved in its original form.\n",
        "   - Safe Data Sharing:\n",
        "When you pass a tuple to a function or another part of your code, you can be confident that it won't be modified unexpectedly. This enhances the reliability and predictability of your code.\n",
        "   - Reliable Data Structures:\n",
        "Tuples can be used as keys in dictionaries because their immutability guarantees that the key will not change, ensuring the integrity of the dictionary structure.\n",
        "   - Improved Performance:\n",
        "In some cases, tuples can be more performant than lists because their fixed size and immutability allow for certain optimizations in memory management.\n",
        "\n",
        "8. What is a hash table, and how does it relate to dictionaries in Python?\n",
        "   - A hash table is a data structure that stores key-value pairs, allowing for efficient retrieval of values based on their corresponding keys. It achieves this by using a hash function, which converts a key into an index within an array where the value is stored.\n",
        "   - Hashing:\n",
        "The hash function takes a key as input and generates a unique numerical value called a hash code.\n",
        "  - Indexing:\n",
        "The hash code is then used to calculate an index in the underlying array where the value associated with the key will be stored.\n",
        "  - Collision Handling:\n",
        "If two different keys produce the same hash code (a collision), there are different strategies to handle it, such as chaining or open addressing.\n",
        "  - Relationship with Python Dictionaries:\n",
        "In Python, dictionaries are implemented using hash tables under the hood. This means that the key-value pairs you store in a dictionary are organized using a hash table, allowing for fast lookups and efficient data retrieval.\n",
        "   -  using hash tables in dictionaries:-\n",
        "\n",
        "   - Fast Lookups:\n",
        "Hash tables provide near-constant time complexity for lookups (on average), making them extremely efficient for retrieving values based on their keys.\n",
        "  - Efficient Insertion & Deletion:\n",
        "Insertion and deletion operations also benefit from the fast access provided by hash tables.\n",
        "  - Flexible Data Storage:\n",
        "Dictionaries allow you to store data of any type, making them versatile for a variety of use cases.\n",
        "   - Key Points:Python dictionaries are an implementation of hash tables.\n",
        "   Hash tables offer efficient access to data based on keys. Hash functions play a crucial role in determining the storage location of key-value pairs. Collision handling mechanisms are essential for resolving conflicts when multiple keys hash to the same index.\n",
        "\n",
        "9. Can lists contain different data types in Python?\n",
        "   - Yes, lists in Python can contain different data types. You can have a mix of integers, strings, floats, booleans, and even other lists within the same list. In Python, lists can contain elements of different data types. Python lists are heterogeneous, meaning they can store items of any type, including integers, floats, strings, other lists, dictionaries, tuples, and even custom objects.\n",
        "\n",
        "10. Explain why strings are immutable in Python?\n",
        "    - Strings are “immutable” in python which means they can not be changed after they are created. Some other immutable data types are integers, float, boolean, etc. The immutability of Python string is very useful as it helps in hashing, performance optimization, safety, ease of use, etc. Immutability is the property of an object according to which we can not change the object after we declared or after the creation of it and this Immutability in the case of the string is known as string immutability in Python. The immutable term generally refers to their property of being immune to change or modification after their creation, the same case with the string data type in Python which is immutable.\n",
        "\n",
        "11. What advantages do dictionaries offer over lists for certain tasks?\n",
        "    - Dictionaries offer several advantages over lists for certain tasks, including. A list can store any data type. In contrast, keys in the dictionary can be of any immutable data type, and values can be of any data type. Lists perform faster for ordered operations like sorting, while dictionaries perform faster for lookup operations.\n",
        "    - Faster lookups:-\n",
        " Dictionaries are faster for lookup operations than lists. They use a hash table to store key-value pairs, which allows for quick access to values.\n",
        "   - Easier to read:-\n",
        " Dictionaries make code easier to read when generating key:value pairs.\n",
        "   - More flexible:-\n",
        " Dictionaries can store any type of data as both the key and the value. This makes them well-suited to storing complex data structures.\n",
        " - Memory efficient:-\n",
        " Dictionaries are memory efficient because they only store the key-value pairs that are needed.\n",
        "\n",
        "12. Describe a scenario where using a tuple would be preferable over a list?\n",
        "    - A scenario where a tuple would be preferable over a list is when you need to store a collection of data that should never be modified after it's created, like representing a set of fixed coordinates in a game, storing configuration settings that shouldn't change during runtime, or defining a data structure where immutability is important for data integrity, as tuples are immutable by design, meaning you cannot add, remove, or change elements once the tuple is created. Use a tuple if you need an immutable collection where the elements won't change after creation. Tuples are generally faster and more memory-efficient than lists, making them better for fixed collections, especially as dictionary keys or when iteration speed is crucial.\n",
        "    - Immutability:-\n",
        "Tuples are ideal when you want to ensure data consistency and prevent accidental modification of values.\n",
        "    - Dictionary keys:-\n",
        "Since tuples are immutable, they can be used as keys in dictionaries, which is not possible with lists.\n",
        "    - Performance benefits:\n",
        "In some cases, accessing elements in a tuple can be slightly faster than in a list due to their fixed nature.\n",
        "\n",
        "13. How do sets handle duplicate values in Python?\n",
        "    - Sets in Python are collections of unique elements. This means that they do not allow duplicate values. If you try to add a duplicate value to a set, it will simply be ignored. Items of a set in python are immutable (unchangeable), do not duplicate values, and unordered. Thus, items in a set do not appear in a stipulated manner, i.e., they can appear in a different order every time it is used. Due to this, set items cannot be referred to by key or index.\n",
        "\n",
        "14. How does the “in” keyword work differently for lists and dictionaries?\n",
        "    - When using the \"in\" keyword, it checks for membership within a data structure, but in a list, it checks if a specific value exists within the list, while in a dictionary, it checks if a specific key exists within the dictionary; essentially, \"in\" looks for values in lists and keys in dictionaries.\n",
        "    - Lists:-\n",
        "When using \"in\" with a list, it searches through the elements in the list to see if the given value is present.  \n",
        "    - Dictionaries:\n",
        "When using \"in\" with a dictionary, it only checks if the given value is a key in the dictionary, not if it's a value associated with a key.\n",
        "\n",
        "15. Can you modify the elements of a tuple? Explain why or why not?\n",
        "    - No, you cannot modify the elements of a tuple in Python because tuples are \"immutable,\" meaning once created, their elements cannot be changed, added, or removed; attempting to do so will result in a TypeError.\n",
        "    - Explanation:-\n",
        "    - Immutable nature:\n",
        "     Tuples are designed to store a fixed set of values, making them ideal for scenarios where you need to prevent accidental data modification.\n",
        "    - Alternative for modification:\n",
        "If you need to change elements within a collection, use a list instead, which is mutable and allows for direct element modification.\n",
        "   - You can access individual elements of a tuple using indexing.\n",
        "    - If you need to \"update\" a tuple, you essentially create a new tuple with the desired changes.\n",
        "    - While a tuple cannot be directly modified, if it contains mutable objects like lists, you can change the elements within those nested lists.\n",
        "    - You cannot change, add, or remove elements in a tuple, but you can perform other operations that do not modify the original tuple.\n",
        "\n",
        "16. What is a nested dictionary, and give an example of its use case?\n",
        "    - A nested dictionary is a collection of dictionaries within a single dictionary. It's a useful way to organize data with multiple layers. In Python, a nested dictionary is a dictionary inside a dictionary. It's a collection of dictionaries into one single dictionary. Here, the nested_dict is a nested dictionary with the dictionary dictA and dictB . They are two dictionary each having own key and value.\n",
        "    - some examples of how nested dictionaries can be used:-\n",
        "    - Employee records: Organize employees by department, with each employee's details in a nested dictionary.\n",
        "    - Inventory systems: Track product categories, subcategories, and individual product details.\n",
        "    - JSON data: Nested dictionaries map to the structure of JSON data, making them useful for working with APIs and web services.\n",
        "    - To create a nested dictionary in Python, you can place comma-separated dictionaries within braces. For example, Dict = { 'Dict1' : { }, 'Dict2' : { }} is an empty nested dictionary.\n",
        "    - To access items from a nested dictionary, you can use the name of the dictionaries, starting with the outer dictionary. For example, to print the name of child 2, you can use print(myfamily[\"child2\"][\"name\"]).\n",
        "\n",
        "17. Describe the time complexity of accessing elements in a dictionary?\n",
        "    - The time complexity of accessing an element in a Python dictionary is O(1) on average. This means that the time it takes to retrieve an element is constant and doesn't depend on the size of the dictionary.Time complexity: O(1), which is constant time. This is because dictionary in Python is implemented as a hash table, and the “in” operator uses hash table lookups to find the key, which takes constant time on average.\n",
        "    - Accessing a value by key: O(1) on average, O(n) worst case if there are many collisions.\n",
        "    - Adding a key-value pair: O(1) on average, O(n) worst case if the dictionary needs to be resized.\n",
        "    - Modifying a value by key: O(1) on average, O(n) worst case if there are many collisions.\n",
        "    - Removing a key-value pair by key: O(1) on average, O(n) worst case if there are many collisions.\n",
        "    - Removing a key-value pair by key: O(1) on average, O(n) worst case if there are many collisions.\n",
        "    - The time complexity of dictionary operations in Python depends on the size of the dictionary and the specific operation being performed.\n",
        "\n",
        "18. In what situations are lists preferred over dictionaries?  \n",
        "    - Lists are preferred over dictionaries when the order of elements is important, when you need to perform operations on sequences of data (like iteration or slicing), or when you want to store a collection of related values where the key-value pair relationship isn't necessary; essentially, when the order of elements matters more than the ability to quickly look up values using a unique key.\n",
        "    - Ordered data:-\n",
        "Lists maintain the insertion order of elements, allowing you to access them based on their position in the sequence using an index.\n",
        "    - Sequential operations:-\n",
        "When you need to iterate through elements in a specific order, perform operations like appending or inserting elements at specific positions, lists are more efficient.\n",
        "    - Simple data structures:-\n",
        "For basic data storage where you just need a collection of related values without additional key-value association, lists are often simpler to use.\n",
        "    - Storing a list of items in a shopping cart:-\n",
        "The order of items in the cart is important, so a list would be a good choice.\n",
        "    - Implementing a stack or queue data structure:-\n",
        "These data structures rely on the first-in-last-out (FILO) or first-in-first-out (FIFO) principle, which is easily managed with a list.\n",
        "    - Processing a sequence of data from a file:-\n",
        "When reading data line by line, a list can be used to store the sequence of lines.\n",
        "\n",
        "19. Why are dictionaries considered unordered, and how does that affect data retrieval?\n",
        "    - Dictionaries in Python are historically considered unordered collections because, before Python 3.7, they did not guarantee that items would be stored or retrieved in the order they were added. However, starting from Python 3.7, dictionaries maintain insertion order as an implementation detail, and in Python 3.8, this behavior was officially guaranteed by the language specification.\n",
        "    - They were considered unordered because of:-\n",
        "    - Hashing Mechanism:\n",
        "Dictionaries are implemented as hash tables, where keys are hashed to determine their position in memory. This hashing mechanism prioritizes efficiency for lookups, insertions, and deletions rather than maintaining order.\n",
        "    - Optimization:\n",
        "By not enforcing order, older implementations of dictionaries could focus on performance, making operations faster in terms of time complexity.\n",
        "    - It affect data retrieval:-\n",
        "    - Pre-Python 3.7:-\n",
        "Since dictionaries didn't guarantee order, the sequence in which items were retrieved could differ from the sequence in which they were added. Iterating over a dictionary could produce items in an unpredictable order.\n",
        "   - my_dict = {\"a\": 1, \"b\": 2, \"c\": 3}\n",
        "print(list(my_dict.keys()))  # Order could be arbitrary\n",
        "    - Python 3.7+:-\n",
        "Now, dictionaries maintain insertion order. Items are retrieved in the same sequence they were added. This makes dictionaries more predictable and their behavior similar to collections.OrderedDict from earlier versions.\n",
        "   - my_dict = {\"a\": 1, \"b\": 2, \"c\": 3}\n",
        "print(list(my_dict.keys()))  # ['a', 'b', 'c']\n",
        "    - Impact on data retrieval:-\n",
        "    - Pre-3.7: You could not rely on the order of items unless you used a specialized data structure like OrderedDict.\n",
        "    - Post-3.7: Retrieval order matches insertion order, which can simplify programming and debugging when order matters.\n",
        "    - For older Python versions where order isn't preserved, keys, values, or items must be explicitly sorted if order is important.\n",
        "    \n",
        "20. Explain the difference between a list and a dictionary in terms of data retrieval?\n",
        "    - A list retrieves data using its index position (a number), while a dictionary retrieves data using a specific key, meaning you access elements in a list based on their order in the sequence, whereas in a dictionary, you access elements by providing a unique identifier (the key) that maps to the desired value; essentially, lists are ordered collections accessed by index, while dictionaries are key-value pairs where data is accessed via the associated key. A list is an ordered collection of items, whereas a dictionary is an unordered data collection in a key: value pair. Elements from the list can be accessed using the index, while the elements of the dictionary can be accessed using keys.\n",
        "    - List: Ordered collection of elements.\n",
        "    - Accessed using integer indices (starting from 0).\n",
        "   -  Example: my_list = [\"apple\", \"banana\", \"orange\"] - To get \"banana\", use my_list[1].\n",
        "   - Dictionary: Unordered collection of key-value pairs.\n",
        "    - Accessed using unique keys (can be strings, numbers, etc.).\n",
        "    - Example: my_dict = {\"fruit\": \"apple\", \"color\": \"red\"} - To get \"apple\", use my_dict[\"fruit\"].\n",
        "    - Use a list: When you need to maintain the order of elements and access them sequentially based on their position.\n",
        "    - Use a dictionary:When you need to quickly look up a value using a specific key, like mapping names to phone numbers.\n",
        "\n",
        "\n",
        "\n",
        "\n",
        "\n",
        "   \n",
        "\n",
        "\n",
        "\n",
        "\n",
        "\n",
        "\n",
        "   \n",
        "\n",
        "   \n",
        "\n",
        "\n",
        "\n",
        "  \n",
        "\n",
        "\n",
        "\n",
        "\n",
        "\n",
        "\n",
        "\n"
      ],
      "metadata": {
        "id": "yf_l1EAOttCQ"
      }
    },
    {
      "cell_type": "code",
      "source": [
        "# Practical Questions\n",
        "# 1. Write a code to create a string with your name and print it.\n",
        "# Create a string with a name\n",
        "name = \"Sachin Sinha\"\n",
        "\n",
        "# Print the string\n",
        "print(name)\n"
      ],
      "metadata": {
        "colab": {
          "base_uri": "https://localhost:8080/"
        },
        "id": "L6pVEPxCS_fY",
        "outputId": "360fcdaa-bfb4-4496-bcf2-5b6e2104f10b"
      },
      "execution_count": 16,
      "outputs": [
        {
          "output_type": "stream",
          "name": "stdout",
          "text": [
            "Sachin Sinha\n"
          ]
        }
      ]
    },
    {
      "cell_type": "code",
      "source": [
        "# 2. Write a code to find the length of the string \"Hello World\".\n",
        "string = \"Hello World\"\n",
        "length = len(string)\n",
        "print(f\"The length of the string '{string}' is: {length}\")"
      ],
      "metadata": {
        "colab": {
          "base_uri": "https://localhost:8080/"
        },
        "id": "po4XkAYYZHsJ",
        "outputId": "9f0a64b7-bf84-4e7f-e0d0-5f5b4d027ca7"
      },
      "execution_count": 17,
      "outputs": [
        {
          "output_type": "stream",
          "name": "stdout",
          "text": [
            "The length of the string 'Hello World' is: 11\n"
          ]
        }
      ]
    },
    {
      "cell_type": "code",
      "source": [
        "# 3. Write a code to slice the first 3 characters from the string \"Python Programming\".\n",
        "string = \"Python Programming\"\n",
        "sliced_string = string[:3]\n",
        "print(f\"The sliced string is: {sliced_string}\")"
      ],
      "metadata": {
        "colab": {
          "base_uri": "https://localhost:8080/"
        },
        "id": "BaU1G4OsZtMA",
        "outputId": "0ec0ad41-3277-47ad-c191-1693287f9ddf"
      },
      "execution_count": 18,
      "outputs": [
        {
          "output_type": "stream",
          "name": "stdout",
          "text": [
            "The sliced string is: Pyt\n"
          ]
        }
      ]
    },
    {
      "cell_type": "code",
      "source": [
        "# 4. Write a code to convert the string \"hello\" to uppercase.\n",
        "string = \"hello\"\n",
        "uppercase_string = string.upper()\n",
        "print(f\"The uppercase string is: {uppercase_string}\")"
      ],
      "metadata": {
        "colab": {
          "base_uri": "https://localhost:8080/"
        },
        "id": "hFe-lK1TaJXJ",
        "outputId": "732421d1-5586-4d5b-e769-4a1c6a013a52"
      },
      "execution_count": 19,
      "outputs": [
        {
          "output_type": "stream",
          "name": "stdout",
          "text": [
            "The uppercase string is: HELLO\n"
          ]
        }
      ]
    },
    {
      "cell_type": "code",
      "source": [
        "# 5. Write a code to replace the word \"apple\" with \"orange\" in the string \"I like apple\".\n",
        "string = \"I like apple\"\n",
        "replaced_string = string.replace(\"apple\", \"orange\")\n",
        "print(f\"The replaced string is: {replaced_string}\")"
      ],
      "metadata": {
        "colab": {
          "base_uri": "https://localhost:8080/"
        },
        "id": "mIh_uQ6Oaytx",
        "outputId": "6c38de10-1607-4dc9-e018-3c55733ef17d"
      },
      "execution_count": 20,
      "outputs": [
        {
          "output_type": "stream",
          "name": "stdout",
          "text": [
            "The replaced string is: I like orange\n"
          ]
        }
      ]
    },
    {
      "cell_type": "code",
      "source": [
        "# 6. Write a code to create a list with numbers 1 to 5 and print it.\n",
        "numbers = [1, 2, 3, 4, 5]\n",
        "print(numbers)"
      ],
      "metadata": {
        "colab": {
          "base_uri": "https://localhost:8080/"
        },
        "id": "8f6o9z6TbIJi",
        "outputId": "7201ecec-cb86-4f1b-c5a0-28d32b73e16f"
      },
      "execution_count": 21,
      "outputs": [
        {
          "output_type": "stream",
          "name": "stdout",
          "text": [
            "[1, 2, 3, 4, 5]\n"
          ]
        }
      ]
    },
    {
      "cell_type": "code",
      "source": [
        "# 7. Write a code to append the number 10 to the list [1, 2, 3, 4].\n",
        "numbers = [1, 2, 3, 4]\n",
        "numbers.append(10)\n",
        "print(numbers)"
      ],
      "metadata": {
        "colab": {
          "base_uri": "https://localhost:8080/"
        },
        "id": "0_qGKu4_b4-m",
        "outputId": "ae90f005-08cb-426a-c181-37dd5b84b980"
      },
      "execution_count": 22,
      "outputs": [
        {
          "output_type": "stream",
          "name": "stdout",
          "text": [
            "[1, 2, 3, 4, 10]\n"
          ]
        }
      ]
    },
    {
      "cell_type": "code",
      "source": [
        "# 8. Write a code to remove the number 3 from the list [1, 2, 3, 4, 5].\n",
        "numbers = [1, 2, 3, 4, 5]\n",
        "numbers.remove(3)\n",
        "print(numbers)"
      ],
      "metadata": {
        "colab": {
          "base_uri": "https://localhost:8080/"
        },
        "id": "d-rIrQlvcCi0",
        "outputId": "419487ae-d87f-44d0-8dc2-1869beb225ec"
      },
      "execution_count": 23,
      "outputs": [
        {
          "output_type": "stream",
          "name": "stdout",
          "text": [
            "[1, 2, 4, 5]\n"
          ]
        }
      ]
    },
    {
      "cell_type": "code",
      "source": [
        "# 9. Write a code to access the second element in the list ['a', 'b', 'c', 'd'].\n",
        "letters = ['a', 'b', 'c', 'd']\n",
        "second_element = letters[1]\n",
        "print(second_element)"
      ],
      "metadata": {
        "colab": {
          "base_uri": "https://localhost:8080/"
        },
        "id": "lUrs-MwacOgL",
        "outputId": "d9469486-7d8d-49a0-ca1a-23b3fbe455ce"
      },
      "execution_count": 24,
      "outputs": [
        {
          "output_type": "stream",
          "name": "stdout",
          "text": [
            "b\n"
          ]
        }
      ]
    },
    {
      "cell_type": "code",
      "source": [
        "# 10. Write a code to reverse the list [10, 20, 30, 40, 50].\n",
        "numbers = [10, 20, 30, 40, 50]\n",
        "reversed_numbers = numbers[::-1]\n",
        "print(reversed_numbers)"
      ],
      "metadata": {
        "colab": {
          "base_uri": "https://localhost:8080/"
        },
        "id": "flwz_Er7clQ9",
        "outputId": "bf3eb995-4c86-4f21-fe89-1cd831e4a1db"
      },
      "execution_count": 25,
      "outputs": [
        {
          "output_type": "stream",
          "name": "stdout",
          "text": [
            "[50, 40, 30, 20, 10]\n"
          ]
        }
      ]
    },
    {
      "cell_type": "code",
      "source": [
        "# 11. Write a code to create a tuple with the elements 10, 20, 30 and print it.\n",
        "my_tuple = (10, 20, 30)\n",
        "print(my_tuple)"
      ],
      "metadata": {
        "colab": {
          "base_uri": "https://localhost:8080/"
        },
        "id": "FWSBAiwYcx4T",
        "outputId": "6f05f699-1655-4dd7-f006-49a9bfe46e2b"
      },
      "execution_count": 27,
      "outputs": [
        {
          "output_type": "stream",
          "name": "stdout",
          "text": [
            "(10, 20, 30)\n"
          ]
        }
      ]
    },
    {
      "cell_type": "code",
      "source": [
        "# 12. Write a code to access the first element of the tuple ('apple', 'banana', 'cherry').\n",
        "fruits = ('apple', 'banana', 'cherry')\n",
        "first_element = fruits[0]\n",
        "print(first_element)"
      ],
      "metadata": {
        "colab": {
          "base_uri": "https://localhost:8080/"
        },
        "id": "NfhDSCm4dBHc",
        "outputId": "7da8d3da-57d4-4dde-a6fd-12c416bbd450"
      },
      "execution_count": 28,
      "outputs": [
        {
          "output_type": "stream",
          "name": "stdout",
          "text": [
            "apple\n"
          ]
        }
      ]
    },
    {
      "cell_type": "code",
      "source": [
        "# 13. Write a code to count how many times the number 2 appears in the tuple (1, 2, 3, 2, 4, 2).\n",
        "numbers = (1, 2, 3, 2, 4, 2)\n",
        "count = numbers.count(2)\n",
        "print(count)"
      ],
      "metadata": {
        "colab": {
          "base_uri": "https://localhost:8080/"
        },
        "id": "kyIDDOfodnDa",
        "outputId": "180c5947-3135-4c55-d21b-fd64a73e7e7e"
      },
      "execution_count": 29,
      "outputs": [
        {
          "output_type": "stream",
          "name": "stdout",
          "text": [
            "3\n"
          ]
        }
      ]
    },
    {
      "cell_type": "code",
      "source": [
        "# 14. Write a code to find the index of the element \"cat\" in the tuple ('dog', 'cat', 'rabbit').\n",
        "animals = ('dog', 'cat', 'rabbit')\n",
        "index = animals.index('cat')\n",
        "print(index)"
      ],
      "metadata": {
        "colab": {
          "base_uri": "https://localhost:8080/"
        },
        "id": "0YX8_VpVdz5U",
        "outputId": "dee2215c-bfe1-43d3-e99a-3f2dbeb14524"
      },
      "execution_count": 30,
      "outputs": [
        {
          "output_type": "stream",
          "name": "stdout",
          "text": [
            "1\n"
          ]
        }
      ]
    },
    {
      "cell_type": "code",
      "source": [
        "# 15. Write a code to check if the element \"banana\" is in the tuple ('apple', 'orange', 'banana').\n",
        "fruits = ('apple', 'orange', 'banana')\n",
        "if 'banana' in fruits:\n",
        "    print(\"banana is in the tuple\")\n",
        "else:\n",
        "    print(\"banana is not in the tuple\")"
      ],
      "metadata": {
        "colab": {
          "base_uri": "https://localhost:8080/"
        },
        "id": "9C1iXEWieAPN",
        "outputId": "2a4d6512-c3cb-423c-f05d-1a98f6885ec1"
      },
      "execution_count": 32,
      "outputs": [
        {
          "output_type": "stream",
          "name": "stdout",
          "text": [
            "banana is in the tuple\n"
          ]
        }
      ]
    },
    {
      "cell_type": "code",
      "source": [
        "# 16. Write a code to create a set with the elements 1, 2, 3, 4, 5 and print it.\n",
        "my_set = {1, 2, 3, 4, 5}\n",
        "print(my_set)"
      ],
      "metadata": {
        "colab": {
          "base_uri": "https://localhost:8080/"
        },
        "id": "Ngf_oW25eTP-",
        "outputId": "67c949c6-6864-48d9-eba0-c860a6cae019"
      },
      "execution_count": 33,
      "outputs": [
        {
          "output_type": "stream",
          "name": "stdout",
          "text": [
            "{1, 2, 3, 4, 5}\n"
          ]
        }
      ]
    },
    {
      "cell_type": "code",
      "source": [
        "# 17. Write a code to add the element 6 to the set {1, 2, 3, 4}.\n",
        "my_set = {1, 2, 3, 4}\n",
        "my_set.add(6)\n",
        "print(my_set)"
      ],
      "metadata": {
        "colab": {
          "base_uri": "https://localhost:8080/"
        },
        "id": "iXV51-ebe1vA",
        "outputId": "5700eee2-ebda-4012-f0ae-8098f69d7cf8"
      },
      "execution_count": 34,
      "outputs": [
        {
          "output_type": "stream",
          "name": "stdout",
          "text": [
            "{1, 2, 3, 4, 6}\n"
          ]
        }
      ]
    },
    {
      "cell_type": "code",
      "source": [
        "# 18. Write a code to create a tuple with the elements 10, 20, 30 and print it.\n",
        "my_tuple = (10, 20, 30)\n",
        "print(my_tuple)"
      ],
      "metadata": {
        "colab": {
          "base_uri": "https://localhost:8080/"
        },
        "id": "0YbNDwslfGoh",
        "outputId": "00667ef2-6dfc-465b-f913-16e73e9e5b3f"
      },
      "execution_count": 36,
      "outputs": [
        {
          "output_type": "stream",
          "name": "stdout",
          "text": [
            "(10, 20, 30)\n"
          ]
        }
      ]
    },
    {
      "cell_type": "code",
      "source": [
        "# 19. Write a code to access the first element of the tuple ('apple', 'banana', 'cherry').\n",
        "fruits = ('apple', 'banana', 'cherry')\n",
        "first_element = fruits[0]\n",
        "print(first_element)"
      ],
      "metadata": {
        "colab": {
          "base_uri": "https://localhost:8080/"
        },
        "id": "aXxHaJhxfVY-",
        "outputId": "4288a00a-422d-44d6-b925-186934212ec4"
      },
      "execution_count": 37,
      "outputs": [
        {
          "output_type": "stream",
          "name": "stdout",
          "text": [
            "apple\n"
          ]
        }
      ]
    },
    {
      "cell_type": "code",
      "source": [
        "# 20. Write a code to count how many times the number 2 appears in the tuple (1, 2, 3, 2, 4, 2).\n",
        "numbers = (1, 2, 3, 2, 4, 2)\n",
        "count = numbers.count(2)\n",
        "print(count)"
      ],
      "metadata": {
        "colab": {
          "base_uri": "https://localhost:8080/"
        },
        "id": "ekU_LOsufxP8",
        "outputId": "bd863423-90c8-44d7-b514-5c86ca2ab1bc"
      },
      "execution_count": 38,
      "outputs": [
        {
          "output_type": "stream",
          "name": "stdout",
          "text": [
            "3\n"
          ]
        }
      ]
    },
    {
      "cell_type": "code",
      "source": [
        "# 21. Write a code to find the index of the element \"cat\" in the tuple ('dog', 'cat', 'rabbit').\n",
        "animals = ('dog', 'cat', 'rabbit')\n",
        "index = animals.index('cat')\n",
        "print(index)"
      ],
      "metadata": {
        "colab": {
          "base_uri": "https://localhost:8080/"
        },
        "id": "o9b1QdYtf7WU",
        "outputId": "cb396152-fe17-4f50-9f9d-3ad4deebb3ca"
      },
      "execution_count": 39,
      "outputs": [
        {
          "output_type": "stream",
          "name": "stdout",
          "text": [
            "1\n"
          ]
        }
      ]
    },
    {
      "cell_type": "code",
      "source": [
        "# 22. Write a code to check if the element \"banana\" is in the tuple ('apple', 'orange', 'banana').\n",
        "fruits = ('apple', 'orange', 'banana')\n",
        "if 'banana' in fruits:\n",
        "    print(\"banana is in the tuple\")\n",
        "else:\n",
        "    print(\"banana is not in the tuple\")"
      ],
      "metadata": {
        "colab": {
          "base_uri": "https://localhost:8080/"
        },
        "id": "o9EEvc80gF94",
        "outputId": "2c74b95c-ae34-449b-a47d-4061470f4811"
      },
      "execution_count": 40,
      "outputs": [
        {
          "output_type": "stream",
          "name": "stdout",
          "text": [
            "banana is in the tuple\n"
          ]
        }
      ]
    },
    {
      "cell_type": "code",
      "source": [
        "# 23. Write a code to create a set with the elements 1, 2, 3, 4, 5 and print it.\n",
        "my_set = {1, 2, 3, 4, 5}\n",
        "print(my_set)"
      ],
      "metadata": {
        "colab": {
          "base_uri": "https://localhost:8080/"
        },
        "id": "1BzX56fRgRty",
        "outputId": "e16999fe-458f-41ed-8b44-6c30f453f3d7"
      },
      "execution_count": 41,
      "outputs": [
        {
          "output_type": "stream",
          "name": "stdout",
          "text": [
            "{1, 2, 3, 4, 5}\n"
          ]
        }
      ]
    },
    {
      "cell_type": "code",
      "source": [
        "# 24. Write a code to add the element 6 to the set {1, 2, 3, 4}.\n",
        "my_set = {1, 2, 3, 4}\n",
        "my_set.add(6)\n",
        "print(my_set)"
      ],
      "metadata": {
        "colab": {
          "base_uri": "https://localhost:8080/"
        },
        "id": "7OUQF61qgaU-",
        "outputId": "f15763f3-e6e0-45a3-878a-1140083de19f"
      },
      "execution_count": 42,
      "outputs": [
        {
          "output_type": "stream",
          "name": "stdout",
          "text": [
            "{1, 2, 3, 4, 6}\n"
          ]
        }
      ]
    },
    {
      "cell_type": "code",
      "source": [],
      "metadata": {
        "id": "KqjTXpjagiD8"
      },
      "execution_count": null,
      "outputs": []
    }
  ]
}